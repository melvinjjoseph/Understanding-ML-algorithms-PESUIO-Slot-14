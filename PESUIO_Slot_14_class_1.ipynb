{
  "nbformat": 4,
  "nbformat_minor": 0,
  "metadata": {
    "colab": {
      "provenance": [],
      "collapsed_sections": [],
      "include_colab_link": true
    },
    "kernelspec": {
      "name": "python3",
      "display_name": "Python 3"
    },
    "language_info": {
      "name": "python"
    }
  },
  "cells": [
    {
      "cell_type": "markdown",
      "metadata": {
        "id": "view-in-github",
        "colab_type": "text"
      },
      "source": [
        "<a href=\"https://colab.research.google.com/github/melvinjjoseph/Understanding-ML-algorithms-PESUIO-Slot-14/blob/main/PESUIO_Slot_14_class_1.ipynb\" target=\"_parent\"><img src=\"https://colab.research.google.com/assets/colab-badge.svg\" alt=\"Open In Colab\"/></a>"
      ]
    },
    {
      "cell_type": "markdown",
      "source": [
        "Welcome to the first class of undersanding ML algorithms\n",
        "Today you will get yourselves familiar with python and essentially get to dive into the basics of some libraries that you will be learning about throughout this course."
      ],
      "metadata": {
        "id": "uxWHk4LP14P2"
      }
    },
    {
      "cell_type": "markdown",
      "source": [
        "The Most basic Hello World program:"
      ],
      "metadata": {
        "id": "4TUobwcn2cvz"
      }
    },
    {
      "cell_type": "code",
      "source": [
        "print(\"Hello World!\")"
      ],
      "metadata": {
        "colab": {
          "base_uri": "https://localhost:8080/"
        },
        "id": "hE7C8tL22lmD",
        "outputId": "97a9ab2f-3111-4606-e040-de164915cebd"
      },
      "execution_count": null,
      "outputs": [
        {
          "output_type": "stream",
          "name": "stdout",
          "text": [
            "Hello World!\n"
          ]
        }
      ]
    },
    {
      "cell_type": "markdown",
      "source": [
        "Concept of variables and data types :\n",
        "EXERCISE: A travel company wants to fly a plane to the Bahamas. Flying the plane costs 5000 dollars. So far, 29 people have signed up for the trip. If the company charges 200 dollars per ticket, what is the profit made by the company? Create variables for each numeric quantity and use appropriate arithmetic operations."
      ],
      "metadata": {
        "id": "ovKfTdej2B9R"
      }
    },
    {
      "cell_type": "code",
      "source": [
        "total_cost=5000\n",
        "people=29\n",
        "cost_per_person=200\n",
        "profit=people*cost_per_person-total_cost\n",
        "print(profit)"
      ],
      "metadata": {
        "id": "vxkFv26E23qA",
        "colab": {
          "base_uri": "https://localhost:8080/"
        },
        "outputId": "c8bbad49-ecef-4ef6-ce46-b56df5d1b445"
      },
      "execution_count": null,
      "outputs": [
        {
          "output_type": "stream",
          "name": "stdout",
          "text": [
            "800\n"
          ]
        }
      ]
    },
    {
      "cell_type": "markdown",
      "source": [
        "Concept of a conditional statement or a set of conditional statements and cases :\n",
        "Write a code snippet which evaluates whether a number is a multiple of just 2 , just 3 , or both 2 and 3 (multiple of 6)"
      ],
      "metadata": {
        "id": "xjAB_LDJ24I3"
      }
    },
    {
      "cell_type": "code",
      "source": [
        "#use if-else statements and print out the required information:\n",
        "num= 12\n",
        "#complete this area\n",
        "if num%2==0 and num%3==0:\n",
        "  print(\"Multiple of 6\")\n",
        "elif num%2==0:\n",
        "  print(\"Multiple of 2\")\n",
        "elif num%3==0:\n",
        "  print(\"Multiple of 3\")\n",
        "else:\n",
        "  print(\"not a multiple of 2 or 3\")"
      ],
      "metadata": {
        "id": "m_ZVPJuN3AXP",
        "colab": {
          "base_uri": "https://localhost:8080/"
        },
        "outputId": "5f37cd80-ddfa-4581-cd5c-544d4ba113de"
      },
      "execution_count": null,
      "outputs": [
        {
          "output_type": "stream",
          "name": "stdout",
          "text": [
            "Multiple of 6\n"
          ]
        }
      ]
    },
    {
      "cell_type": "markdown",
      "source": [
        "Concept of loops:\n",
        "Write a program to count the number of vowels in the given string:\n",
        "ANTIESTABLISHMENTARIANISTICALLY"
      ],
      "metadata": {
        "id": "O2bGzmzO3s9L"
      }
    },
    {
      "cell_type": "code",
      "source": [
        "given=\"ANTIESTABLISHMENTARIANISTICALLY\"\n",
        "count=0\n",
        "for i in given:\n",
        "  if i==\"A\" or i==\"E\" or i==\"I\" or i==\"O\" or i==\"U\":\n",
        "    count=count+1\n",
        "print(count)"
      ],
      "metadata": {
        "id": "4g7drYH83vYE",
        "colab": {
          "base_uri": "https://localhost:8080/"
        },
        "outputId": "3e55767b-b9e0-4ba7-eed9-b65e013f7f19"
      },
      "execution_count": null,
      "outputs": [
        {
          "output_type": "stream",
          "name": "stdout",
          "text": [
            "12\n"
          ]
        }
      ]
    },
    {
      "cell_type": "markdown",
      "source": [
        "learning what each data- structure in python does and using all their functions:\n"
      ],
      "metadata": {
        "id": "e4Vc9Nw84bD5"
      }
    },
    {
      "cell_type": "markdown",
      "source": [
        "LISTS AND ITS FUNCTIONALITY:"
      ],
      "metadata": {
        "id": "OaEbJ_LY4joh"
      }
    },
    {
      "cell_type": "code",
      "source": [
        "#Define a random list of fruits \n",
        "fruits=[\"apple\",\"banana\",\"mango\",\"pear\"]\n",
        "#iterate over the list and find the name of the fruit which has the smallest word length\n",
        "smallest_fruit=fruits[0]\n",
        "for fruit in fruits:\n",
        "  if len(fruit)<len(smallest_fruit):\n",
        "    smallest_fruit=fruit\n",
        "print(fruit)\n",
        "\n",
        "# append a vegetable to your existing list\n",
        "fruits.append(\"carrot\")\n",
        "# find the size of your list\n",
        "print(len(fruits))\n",
        "# add enough fruits such that your list size if greater that 4\n",
        "\n",
        "# delete the 2nd fruit(1st index) from your list:\n",
        "fruits.pop(1)\n",
        "# add your name in the 4th position of the list (3rd index)\n",
        "fruits[3]=\"Melvin\"\n",
        "print(fruits)\n",
        "#have fun and try out any 4-5 pre-defined fucntions on a list as seen in the python list documentation\n",
        "fruits.reverse\n"
      ],
      "metadata": {
        "id": "rjle8Jat4n7b",
        "colab": {
          "base_uri": "https://localhost:8080/"
        },
        "outputId": "aaec0018-f3a8-46c4-9c7a-ae850ad082ee"
      },
      "execution_count": null,
      "outputs": [
        {
          "output_type": "stream",
          "name": "stdout",
          "text": [
            "pear\n",
            "5\n",
            "['apple', 'mango', 'pear', 'Melvin']\n"
          ]
        }
      ]
    },
    {
      "cell_type": "markdown",
      "source": [
        "TUPLES AND ITS FUNCTIONALITY:"
      ],
      "metadata": {
        "id": "IAYs58gx4oWB"
      }
    },
    {
      "cell_type": "code",
      "source": [
        "#create abd tuple and print its elements \n",
        "t=(\"apple\",13,\"car\",\"bird\",3.2)\n",
        "print(t)\n",
        "#print the type of each value in the tuple\n",
        "for i in t:\n",
        "  print(type(i))\n",
        "#try to change the seconf value in your tuple to \"Caterpillar\"\n",
        "\n",
        "#t[1]=\"Catterpillar\"  we get an error\n",
        "\n",
        "# print the last element of the tuple without using the length of the tuple\n",
        "print(t[-1])\n",
        "# slicing is an IMPORTANT concept in python especially since you will all be working on huge amounts of data so try different options \n",
        "# print(a[-2:]), print([:3]) etc...\n",
        "print(t[3::-1])\n",
        "print(t[:3:2])\n",
        "#sort vs sorted function: find the difference in the form of a program:\n",
        "list1=[34,24,76,43,55]\n",
        "list2=sorted(list1)   #returns the sorted list. does not change the original list\n",
        "print(list2)\n",
        "list1.sort()      #changes the original list. has no return value\n",
        "print(list1)      \n",
        "\n"
      ],
      "metadata": {
        "id": "KquFBYey4qzu",
        "colab": {
          "base_uri": "https://localhost:8080/"
        },
        "outputId": "9e14ff63-9c5b-463a-fb9a-bdd1cf5e4f0f"
      },
      "execution_count": 24,
      "outputs": [
        {
          "output_type": "stream",
          "name": "stdout",
          "text": [
            "('apple', 13, 'car', 'bird', 3.2)\n",
            "<class 'str'>\n",
            "<class 'int'>\n",
            "<class 'str'>\n",
            "<class 'str'>\n",
            "<class 'float'>\n",
            "3.2\n",
            "('bird', 'car', 13, 'apple')\n",
            "('apple', 'car')\n",
            "[24, 34, 43, 55, 76]\n",
            "[24, 34, 43, 55, 76]\n"
          ]
        }
      ]
    },
    {
      "cell_type": "markdown",
      "source": [
        "SETS AND ITS FUNCTIONALITY:"
      ],
      "metadata": {
        "id": "P3xn-gIL4rS6"
      }
    },
    {
      "cell_type": "code",
      "source": [
        "#explore the properties of set and after doing that solve this little puzzle below:\n",
        "list1=[23,12,54,23,54,26]\n",
        "set1=set(list1)\n",
        "print(set1)\n"
      ],
      "metadata": {
        "id": "RlURFwFx4viZ",
        "colab": {
          "base_uri": "https://localhost:8080/"
        },
        "outputId": "0bbd0fd5-7d1f-470a-da9e-5fca3d547fb7"
      },
      "execution_count": 25,
      "outputs": [
        {
          "output_type": "stream",
          "name": "stdout",
          "text": [
            "{26, 12, 54, 23}\n"
          ]
        }
      ]
    },
    {
      "cell_type": "markdown",
      "source": [
        "Ana is a data-scientist  who just started her career in Meta, however she needs to find the existance of new words on facebook hashtags and find the numbre of unique such words which need to be added to the existing facebook hastag library:\n",
        "\n",
        "facebook hastag library : [\"ootd\", \"lol\", \"ffs\", \"asap\"]\n",
        "daily facebook hastag words string: \" rofl lol macha bob ootd asap fun sweet16 ffs lol asap ootd ffs macha rofl bob ootd fun candid anime happyhours bob fun happyhours\"\n",
        "You will need to indivitually extract the words from the string and then solve this problem ?? How are you going to do that ? \n",
        "# Reading documentation should become a habit ....."
      ],
      "metadata": {
        "id": "na8tI4EH70Lt"
      }
    },
    {
      "cell_type": "code",
      "source": [
        "#solve the above problem and help ana do her work she may even hire you as her assistant!!!\n",
        "given=\" rofl lol macha bob ootd asap fun sweet16 ffs lol asap ootd ffs macha rofl bob ootd fun candid anime happyhours bob fun happyhours\" \n",
        "lib=[\"ootd\", \"lol\", \"ffs\", \"asap\"]\n",
        "given_words=given.split()\n",
        "c=0\n",
        "for i in given_words:\n",
        "  if i not in lib:\n",
        "    lib.append(i)\n",
        "    c=c+1\n",
        "print(\"the number of words to be added is\",c)\n",
        "print(\"the updated hashtag library is\",lib)"
      ],
      "metadata": {
        "id": "0ww7Zs5BBiBQ",
        "colab": {
          "base_uri": "https://localhost:8080/"
        },
        "outputId": "55493544-f6d0-49d0-9c85-6e713d162f4b"
      },
      "execution_count": 7,
      "outputs": [
        {
          "output_type": "stream",
          "name": "stdout",
          "text": [
            "the number of words to be added is 8\n",
            "the updated hashtag library is ['ootd', 'lol', 'ffs', 'asap', 'rofl', 'macha', 'bob', 'fun', 'sweet16', 'candid', 'anime', 'happyhours']\n"
          ]
        }
      ]
    },
    {
      "cell_type": "markdown",
      "source": [
        "DICTIONARIES AND ITS FUNCTIONALITY:"
      ],
      "metadata": {
        "id": "kMmUm2qI4wBP"
      }
    },
    {
      "cell_type": "code",
      "source": [
        "#explore the usage of dictionaries because it is literally so useful when in comes data science\n",
        "#a lot of the data you will be using will be as key-value pairs \n"
      ],
      "metadata": {
        "id": "oR-54dFT4zYN"
      },
      "execution_count": null,
      "outputs": []
    },
    {
      "cell_type": "markdown",
      "source": [
        "Given an unsorted list of some elements(may or may not be integers), Find the frequency of each distinct element in the list using a dictionary. \n",
        "Input : [1, 1, 1, 5, 5, 3, 1, 3, 3, 1,\n",
        "                  4, 4, 4, 2, 2, 2, 2]\n",
        "\n",
        "Output : 1 : 5\n",
        "         2 : 4\n",
        "         3 : 3\n",
        "         4 : 3\n",
        "         5 : 2\n",
        "\n"
      ],
      "metadata": {
        "id": "V-iZrEMlE30W"
      }
    },
    {
      "cell_type": "code",
      "source": [
        "# Python program to count the frequency of\n",
        "# elements in a list using a dictionary\n",
        " \n",
        "def CountFrequency(my_list):\n",
        " \n",
        "    # Creating an empty dictionary\n",
        "    freq = {}\n",
        "    for ele in my_list:\n",
        "      if ele not in freq:\n",
        "        freq[ele]=1\n",
        "      else:\n",
        "        freq[ele]=freq[ele]+1\n",
        "    return freq\n",
        "        \n",
        "    #------fill your code here-----------------\n",
        "    \n",
        "# Driver function\n",
        "if __name__ == \"__main__\":\n",
        "    my_list =[1, 1, 1, 5, 5, 3, 1, 3, 3, 1, 4, 4, 4, 2, 2, 2, 2]\n",
        " \n",
        "    freq=CountFrequency(my_list)\n",
        "    print(freq)"
      ],
      "metadata": {
        "id": "dPP6aUJaFbbv",
        "colab": {
          "base_uri": "https://localhost:8080/"
        },
        "outputId": "725b8227-986e-4f4f-b2ee-878c400c3466"
      },
      "execution_count": 27,
      "outputs": [
        {
          "output_type": "stream",
          "name": "stdout",
          "text": [
            "{1: 5, 5: 2, 3: 3, 4: 3, 2: 4}\n"
          ]
        }
      ]
    },
    {
      "cell_type": "markdown",
      "source": [
        "Now that you have finished this basics exercise in python We shall now play in teams and winning Team doesn't get homework today !"
      ],
      "metadata": {
        "id": "7AoTxECAFvfc"
      }
    }
  ]
}